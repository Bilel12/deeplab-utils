{
 "cells": [
  {
   "cell_type": "code",
   "execution_count": 1,
   "metadata": {},
   "outputs": [],
   "source": [
    "import json"
   ]
  },
  {
   "cell_type": "code",
   "execution_count": 3,
   "metadata": {},
   "outputs": [],
   "source": [
    "data = json.load(open('/Users/darylwilding-mcbride/Downloads/cjg1vo7hcv57i0167asumwkzq%2Fcjg2yllgi5ofp0107dtahnnqf%2Fexport-2018-04-17T04_55_57.122Z.json'))"
   ]
  },
  {
   "cell_type": "code",
   "execution_count": 38,
   "metadata": {},
   "outputs": [
    {
     "name": "stdout",
     "output_type": "stream",
     "text": [
      "rock-1.png\n",
      "  Vein Type 1, https://imagemasks.s3.amazonaws.com/9137b9b89f614de3e633b41c/cjg2zgbfv5o640176y7tmgv19_Vein_Type_1_mask.png\n",
      "  Vein Type 2, https://imagemasks.s3.amazonaws.com/9137b9b89f614de3e633b41c/cjg2zgbfv5o640176y7tmgv19_Vein_Type_2_mask.png\n",
      "rock-2.png\n",
      "  Vein Type 1, https://imagemasks.s3.amazonaws.com/1d054cf569422959ddedd052/cjg2zgjwa5nps01679m9q77ii_Vein_Type_1_mask.png\n",
      "  Vein Type 2, https://imagemasks.s3.amazonaws.com/1d054cf569422959ddedd052/cjg2zgjwa5nps01679m9q77ii_Vein_Type_2_mask.png\n",
      "  Vein Type 3, https://imagemasks.s3.amazonaws.com/1d054cf569422959ddedd052/cjg2zgjwa5nps01679m9q77ii_Vein_Type_3_mask.png\n",
      "rock-3.png\n",
      "rock-4.png\n",
      "rock-5.png\n",
      "rock-6.png\n",
      "rock-7.png\n",
      "rock-8.png\n",
      "rock-9.png\n"
     ]
    }
   ],
   "source": [
    "for rock in data:\n",
    "    image_name = rock['External ID']\n",
    "    print(\"{}\".format(image_name))\n",
    "    if 'Masks' in rock.keys():\n",
    "        for mask_name in rock['Masks'].keys():\n",
    "            binary_mask_url = rock['Masks'][mask_name]\n",
    "            print(\"  {}, {}\".format(mask_name, rock['Masks'][mask_name]))"
   ]
  },
  {
   "cell_type": "code",
   "execution_count": null,
   "metadata": {},
   "outputs": [],
   "source": []
  }
 ],
 "metadata": {
  "kernelspec": {
   "display_name": "Python 3",
   "language": "python",
   "name": "python3"
  },
  "language_info": {
   "codemirror_mode": {
    "name": "ipython",
    "version": 3
   },
   "file_extension": ".py",
   "mimetype": "text/x-python",
   "name": "python",
   "nbconvert_exporter": "python",
   "pygments_lexer": "ipython3",
   "version": "3.5.4"
  }
 },
 "nbformat": 4,
 "nbformat_minor": 2
}
