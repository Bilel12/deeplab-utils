{
 "cells": [
  {
   "cell_type": "code",
   "execution_count": 5,
   "metadata": {},
   "outputs": [],
   "source": [
    "import json\n",
    "import imageio\n",
    "import numpy as np\n",
    "import os"
   ]
  },
  {
   "cell_type": "code",
   "execution_count": 6,
   "metadata": {},
   "outputs": [],
   "source": [
    "labelbox_json = json.load(open('./rocks.json'))\n",
    "output_path = './SegmentationClassAug'"
   ]
  },
  {
   "cell_type": "code",
   "execution_count": 7,
   "metadata": {},
   "outputs": [],
   "source": [
    "def convert_binary_mask_to_instance_mask(image_name, binary_mask_url):\n",
    "    binary_mask = imageio.imread(binary_mask_url)\n",
    "    \n",
    "    # To create single channel masks used by the Pascal VOC example in DeepLab, the binary masks must be\n",
    "    # combined into a single-channel image, with the pixel values corresponding to the label number.\n",
    "    \n",
    "    instance_mask = np.zeros(binary_mask.shape, dtype=np.uint8)\n",
    "    instance_mask[np.where(binary_mask == 255)] = 1\n",
    "    instance_mask_output_path = os.path.join(output_path, image_name)\n",
    "    imageio.imwrite(instance_mask_output_path, instance_mask)"
   ]
  },
  {
   "cell_type": "code",
   "execution_count": 8,
   "metadata": {},
   "outputs": [
    {
     "name": "stdout",
     "output_type": "stream",
     "text": [
      "rock-9.png, Car, https://imagemasks.s3.amazonaws.com/43e2517cff89695115e4e581/cjgbsluyr9y3f0180i3raquiv_Car_mask.png\n",
      "\n",
      "rock-8.png, Car, https://imagemasks.s3.amazonaws.com/7e20b6b68bb62643bb955cd6/cjgbt3xrja6i20105z8ajwvgf_Car_mask.png\n",
      "\n",
      "rock-7.png, Car, https://imagemasks.s3.amazonaws.com/48dfb4cfbb541cb55ce73ceb/cjgbu1r03ae1h0107qxvxl7h4_Car_mask.png\n",
      "\n",
      "rock-6.png, Car, https://imagemasks.s3.amazonaws.com/f6419a62784b019b2378fa74/cjgbun9n5a6bu01923xwr02fm_Car_mask.png\n",
      "\n",
      "\n",
      "rock-4.png, Car, https://imagemasks.s3.amazonaws.com/ccdeef3d86ce3109dccbf1cb/cjgbuqsz9akqf0105m5ijp61e_Car_mask.png\n",
      "\n",
      "rock-3.png, Car, https://imagemasks.s3.amazonaws.com/2e679bac7149894e60d1750b/cjgbv3nq4af030119zjke6bq2_Car_mask.png\n",
      "\n",
      "rock-2.png, Car, https://imagemasks.s3.amazonaws.com/735271ffb55c51d3d7f6c358/cjgbwfjo1abfv0198byptwi5p_Car_mask.png\n",
      "\n",
      "rock-1.png, Car, https://imagemasks.s3.amazonaws.com/3031c09a814d3fb460bef4e4/cjgbwkcmzavxl0180y1fewend_Car_mask.png\n",
      "\n"
     ]
    }
   ],
   "source": [
    "for rock in labelbox_json:\n",
    "    image_name = rock['External ID']\n",
    "    if 'Masks' in rock.keys():\n",
    "        for mask_name in rock['Masks'].keys():\n",
    "            binary_mask_url = rock['Masks'][mask_name]\n",
    "            print(\"{}, {}, {}\".format(image_name, mask_name, binary_mask_url))\n",
    "            convert_binary_mask_to_instance_mask(image_name, binary_mask_url)\n",
    "    print(\"\")"
   ]
  }
 ],
 "metadata": {
  "kernelspec": {
   "display_name": "Python 3",
   "language": "python",
   "name": "python3"
  },
  "language_info": {
   "codemirror_mode": {
    "name": "ipython",
    "version": 3
   },
   "file_extension": ".py",
   "mimetype": "text/x-python",
   "name": "python",
   "nbconvert_exporter": "python",
   "pygments_lexer": "ipython3",
   "version": "3.5.5"
  }
 },
 "nbformat": 4,
 "nbformat_minor": 2
}
