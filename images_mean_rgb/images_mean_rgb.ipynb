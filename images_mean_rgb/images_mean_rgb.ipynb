{
 "cells": [
  {
   "cell_type": "code",
   "execution_count": 39,
   "metadata": {
    "scrolled": true
   },
   "outputs": [],
   "source": [
    "import numpy as np\n",
    "import imageio\n",
    "from tqdm import tqdm\n",
    "import os\n",
    "\n",
    "image_dir = 'images/'"
   ]
  },
  {
   "cell_type": "code",
   "execution_count": 40,
   "metadata": {},
   "outputs": [
    {
     "name": "stderr",
     "output_type": "stream",
     "text": [
      "100%|██████████| 9/9 [00:06<00:00,  1.43it/s]\n"
     ]
    },
    {
     "data": {
      "text/plain": [
       "[90.3419216122653, 92.00433402614998, 79.77804352558225]"
      ]
     },
     "execution_count": 40,
     "metadata": {},
     "output_type": "execute_result"
    }
   ],
   "source": [
    "r, g, b = 0, 0, 0\n",
    "count = 0\n",
    "\n",
    "for image_file in tqdm(os.listdir(image_dir)):\n",
    "    image_array = np.array(imageio.imread(image_dir + image_file))\n",
    "    \n",
    "    x, y, _ = np.shape(image_array)\n",
    " \n",
    "    for px in range(0, x):\n",
    "        for py in range(0, y):\n",
    "            pr, pg, pb, pa = image_array[px][py]\n",
    "\n",
    "            r += pr\n",
    "            g += pg\n",
    "            b += pb\n",
    "            count += 1\n",
    "\n",
    "mean_rgb = [(r/count), (g/count), (b/count)]\n",
    "mean_rgb"
   ]
  }
 ],
 "metadata": {
  "kernelspec": {
   "display_name": "Python 3",
   "language": "python",
   "name": "python3"
  },
  "language_info": {
   "codemirror_mode": {
    "name": "ipython",
    "version": 3
   },
   "file_extension": ".py",
   "mimetype": "text/x-python",
   "name": "python",
   "nbconvert_exporter": "python",
   "pygments_lexer": "ipython3",
   "version": "3.5.5"
  }
 },
 "nbformat": 4,
 "nbformat_minor": 2
}
