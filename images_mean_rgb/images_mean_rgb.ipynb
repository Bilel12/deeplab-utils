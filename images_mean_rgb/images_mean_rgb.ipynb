{
 "cells": [
  {
   "cell_type": "code",
   "execution_count": 1,
   "metadata": {
    "scrolled": true
   },
   "outputs": [
    {
     "name": "stderr",
     "output_type": "stream",
     "text": [
      "100%|██████████| 9/9 [00:00<00:00, 29.74it/s]\n"
     ]
    },
    {
     "data": {
      "text/plain": [
       "[array([108.83830967, 109.65480358,  84.62809254, 255.        ]),\n",
       " array([106.76403567, 115.6533544 , 102.58610513, 255.        ]),\n",
       " array([ 57.65280143,  53.714362  ,  48.34544711, 255.        ]),\n",
       " array([114.34808462, 115.02601224, 102.04647436, 255.        ]),\n",
       " array([114.4254814 , 124.22387419, 112.04268934, 255.        ]),\n",
       " array([ 62.12955322,  57.67031773,  50.9376854 , 255.        ]),\n",
       " array([ 84.96260877,  93.12494265,  83.83141749, 255.        ]),\n",
       " array([ 80.22999304,  88.79467582,  78.8620891 , 255.        ]),\n",
       " array([ 82.81920692,  79.16497199,  69.66060278, 255.        ])]"
      ]
     },
     "execution_count": 1,
     "metadata": {},
     "output_type": "execute_result"
    }
   ],
   "source": [
    "import numpy as np\n",
    "from PIL import Image\n",
    "from tqdm import tqdm\n",
    "import os\n",
    "\n",
    "image_dir = 'images/'\n",
    "\n",
    "images_mean_rgb_array = []\n",
    "for image_file in tqdm(os.listdir(image_dir)):\n",
    "    image_array = np.array(Image.open(image_dir + image_file))\n",
    "    image_mean_rgb = np.mean(image_array, axis=(0, 1))\n",
    "    images_mean_rgb_array.append(image_mean_rgb)\n",
    "    \n",
    "images_mean_rgb_array"
   ]
  },
  {
   "cell_type": "code",
   "execution_count": 2,
   "metadata": {},
   "outputs": [
    {
     "data": {
      "text/plain": [
       "array([ 90.24111941,  93.00303495,  81.43784481, 255.        ])"
      ]
     },
     "execution_count": 2,
     "metadata": {},
     "output_type": "execute_result"
    }
   ],
   "source": [
    "np.mean(images_mean_rgb_array, axis=0)"
   ]
  },
  {
   "cell_type": "code",
   "execution_count": null,
   "metadata": {},
   "outputs": [],
   "source": []
  }
 ],
 "metadata": {
  "kernelspec": {
   "display_name": "Python 3",
   "language": "python",
   "name": "python3"
  },
  "language_info": {
   "codemirror_mode": {
    "name": "ipython",
    "version": 3
   },
   "file_extension": ".py",
   "mimetype": "text/x-python",
   "name": "python",
   "nbconvert_exporter": "python",
   "pygments_lexer": "ipython3",
   "version": "3.5.5"
  }
 },
 "nbformat": 4,
 "nbformat_minor": 2
}
