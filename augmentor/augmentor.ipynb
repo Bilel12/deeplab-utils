{
 "cells": [
  {
   "cell_type": "code",
   "execution_count": 15,
   "metadata": {},
   "outputs": [
    {
     "name": "stderr",
     "output_type": "stream",
     "text": [
      "Executing Pipeline:   0%|          | 0/1000 [00:00<?, ? Samples/s]"
     ]
    },
    {
     "name": "stdout",
     "output_type": "stream",
     "text": [
      "Initialised with 10 image(s) found.\n",
      "Output directory set to ./images/output.9 ground truth image(s) found.\n"
     ]
    },
    {
     "name": "stderr",
     "output_type": "stream",
     "text": [
      "Processing <PIL.Image.Image image mode=RGBA size=1416x312 at 0x7F001C924DA0>: 100%|██████████| 1000/1000 [00:58<00:00, 17.00 Samples/s]\n"
     ]
    }
   ],
   "source": [
    "import Augmentor\n",
    "from PIL import Image\n",
    "from tqdm import tqdm\n",
    "import os\n",
    "import re\n",
    "\n",
    "image_dir = \"./images\"\n",
    "p = Augmentor.Pipeline(image_dir)\n",
    "# Point to a directory containing ground truth data.\n",
    "# Images with the same file names will be added as ground truth data\n",
    "# and augmented in parallel to the original data.\n",
    "p.ground_truth(\"./SegmentationClassAug\")\n",
    "\n",
    "p.rotate(probability=1, max_left_rotation=5, max_right_rotation=5)\n",
    "p.flip_left_right(probability=1)\n",
    "p.flip_top_bottom(probability=1)\n",
    "p.skew(probability=1)\n",
    "p.random_distortion(probability=1, grid_width=6, grid_height=6, magnitude=8)\n",
    "p.sample(1000)\n"
   ]
  },
  {
   "cell_type": "code",
   "execution_count": 16,
   "metadata": {},
   "outputs": [
    {
     "name": "stderr",
     "output_type": "stream",
     "text": [
      "100%|██████████| 2894/2894 [00:42<00:00, 68.54it/s]\n"
     ]
    }
   ],
   "source": [
    "# Augmentor genenrates images into ./images/output in following formats:\n",
    "# - original image: images_original_rock-8.png_325b4fc9-cf0b-4c6a-9574-dc9cc13da6b3.png\n",
    "# - masked image  : _groundtruth_(1)_images_rock-8.png_325b4fc9-cf0b-4c6a-9574-dc9cc13da6b3.png\n",
    "# But, https://github.com/rishizek/tensorflow-deeplab-v3 expects:\n",
    "# - orignal images to be in JPEG format: rock-8.jpg\n",
    "# - masked images to be in PNG format  : rock-8.png\n",
    "# - and both of these images to have same filename\n",
    "\n",
    "output_dir = os.path.join(image_dir, 'output')\n",
    "for filename in tqdm(os.listdir(output_dir)):\n",
    "    image_full_path = os.path.join(output_dir, filename)\n",
    "\n",
    "    if re.match(r\"^_groundtruth_\", filename):\n",
    "        new_filename = re.sub(\n",
    "            r\"^_groundtruth_\\(1\\)_images_\",\n",
    "            '',\n",
    "            filename\n",
    "        )\n",
    "        new_image_full_path= os.path.join(output_dir, new_filename)\n",
    "        # print('---------')\n",
    "        # print(new_image_full_path)\n",
    "        # print('---------')\n",
    "        os.rename(image_full_path, new_image_full_path)\n",
    "    else:\n",
    "        new_filename = re.sub(\n",
    "            r\"^images_original_\",\n",
    "            '',\n",
    "            filename\n",
    "        )\n",
    "        new_filename = re.sub(r\".png$\", '.jpg', new_filename)\n",
    "        new_image_full_path= os.path.join(output_dir, new_filename)\n",
    "        # print(new_image_full_path)\n",
    "        \n",
    "        image = Image.open(image_full_path)\n",
    "        rgb_image = image.convert('RGB')\n",
    "        rgb_image.save(new_image_full_path)\n",
    "        \n",
    "        os.remove(image_full_path)\n"
   ]
  }
 ],
 "metadata": {
  "kernelspec": {
   "display_name": "Python 3",
   "language": "python",
   "name": "python3"
  },
  "language_info": {
   "codemirror_mode": {
    "name": "ipython",
    "version": 3
   },
   "file_extension": ".py",
   "mimetype": "text/x-python",
   "name": "python",
   "nbconvert_exporter": "python",
   "pygments_lexer": "ipython3",
   "version": "3.5.5"
  }
 },
 "nbformat": 4,
 "nbformat_minor": 2
}
